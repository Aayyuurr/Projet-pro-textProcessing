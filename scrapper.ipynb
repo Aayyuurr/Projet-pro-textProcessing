{
 "cells": [
  {
   "cell_type": "code",
   "execution_count": 1,
   "metadata": {
    "collapsed": true,
    "pycharm": {
     "name": "#%%\n"
    }
   },
   "outputs": [],
   "source": [
    "from selenium import webdriver\n",
    "from selenium.webdriver.common.keys import Keys\n",
    "from selenium.webdriver.common.by import By\n",
    "from selenium.webdriver.support.ui import WebDriverWait\n",
    "from selenium.webdriver.support import expected_conditions as EC\n",
    "from selenium.common.exceptions import TimeoutException\n",
    "from bs4 import BeautifulSoup\n",
    "import pandas as pd\n",
    "import time"
   ]
  },
  {
   "cell_type": "code",
   "execution_count": 2,
   "outputs": [
    {
     "name": "stderr",
     "output_type": "stream",
     "text": [
      "C:\\Users\\NIS\\AppData\\Local\\Temp\\ipykernel_9872\\1257225703.py:1: DeprecationWarning: executable_path has been deprecated, please pass in a Service object\n",
      "  driver=webdriver.Firefox(executable_path=\"./geckodriver.exe\")\n"
     ]
    }
   ],
   "source": [
    "driver=webdriver.Firefox(executable_path=\"./geckodriver.exe\")\n",
    "url='https://twitter.com/explore'\n",
    "driver.get(url)"
   ],
   "metadata": {
    "collapsed": false,
    "pycharm": {
     "name": "#%%\n"
    }
   }
  },
  {
   "cell_type": "code",
   "execution_count": 3,
   "outputs": [],
   "source": [
    "wait = WebDriverWait(driver, 10)\n",
    "element= wait.until(EC.element_to_be_clickable((By.XPATH, '/html/body/div[1]/div/div/div[1]/div/div[2]/div/div/div/div[2]/div[1]/div/span/span'))).click()"
   ],
   "metadata": {
    "collapsed": false,
    "pycharm": {
     "name": "#%%\n"
    }
   }
  },
  {
   "cell_type": "code",
   "execution_count": 7,
   "outputs": [],
   "source": [
    "element= wait.until(EC.element_to_be_clickable((By.XPATH, '/html/body/div[1]/div/div/div[2]/main/div/div/div/div[1]/div/div[1]/div[1]/div/div/div/div/div/div[1]/div[2]/div/div/div/form/div[1]/div/div/div/label/div[2]/div/input')))\n",
    "Votre_Recherche=input(\"Entrez votre recherche : \")\n",
    "element.send_keys(Votre_Recherche, Keys.ENTER)"
   ],
   "metadata": {
    "collapsed": false,
    "pycharm": {
     "name": "#%%\n"
    }
   }
  },
  {
   "cell_type": "code",
   "execution_count": 15,
   "outputs": [],
   "source": [
    "LePseado=[]\n",
    "LeTweet=[]          #crée des info utile\n",
    "lesreaction=[]"
   ],
   "metadata": {
    "collapsed": false,
    "pycharm": {
     "name": "#%%\n"
    }
   }
  },
  {
   "cell_type": "code",
   "execution_count": 16,
   "outputs": [],
   "source": [
    "wait = WebDriverWait(driver, 10)\n",
    "#LesTweet=wait.until(EC.visibility_of_all_elements_located((By.XPATH,\"//div[@data-testid='cellInnerDiv']\")))\n",
    "LesTweet=driver.find_elements(By.XPATH,\"//div[@data-testid='cellInnerDiv']\")"
   ],
   "metadata": {
    "collapsed": false,
    "pycharm": {
     "name": "#%%\n"
    }
   }
  },
  {
   "cell_type": "code",
   "execution_count": 17,
   "outputs": [],
   "source": [
    "pp=0\n",
    "while len(LePseado)<= 50:\n",
    "    for i in LesTweet:\n",
    "        SIcitee=0\n",
    "        soup = BeautifulSoup(i.get_attribute('innerHTML'), 'html.parser')\n",
    "        for j in soup.find_all('div',attrs={'data-testid':['User-Names','tweetText']}):\n",
    "            if SIcitee<2:\n",
    "                if pp%2==0 :\n",
    "                    LePseado.append(j.text)\n",
    "                else:\n",
    "                    LeTweet.append(j.text)\n",
    "                pp+=1\n",
    "                SIcitee+=1\n",
    "            else:\n",
    "                SIcitee=0\n",
    "                break\n",
    "\n",
    "    for i in LesTweet:\n",
    "        soup = BeautifulSoup(i.get_attribute('innerHTML'), 'html.parser')\n",
    "        for j in soup.find_all('div',attrs={'role':'group'}):\n",
    "       #     print(j.get('aria-label'))\n",
    "            if i is None:\n",
    "                lesreaction.append(0)\n",
    "            else:\n",
    "                lesreaction.append(j.get('aria-label'))\n",
    "\n",
    "    driver.execute_script(\"arguments[0].scrollIntoView();\",LesTweet[-1])\n",
    "    time.sleep(3)\n",
    "    nvtweet=wait.until(EC.visibility_of_any_elements_located((By.XPATH,\"//div[@data-testid='cellInnerDiv']\")))\n",
    "    test=[]\n",
    "    for i in nvtweet:\n",
    "        if i not in LesTweet:\n",
    "            test.append(i)\n",
    "    LesTweet=test"
   ],
   "metadata": {
    "collapsed": false,
    "pycharm": {
     "name": "#%%\n"
    }
   }
  },
  {
   "cell_type": "code",
   "execution_count": 23,
   "outputs": [
    {
     "name": "stdout",
     "output_type": "stream",
     "text": [
      "55\n",
      "55\n",
      "56\n",
      "['', \"10 réponses, 27 Retweets, 105 J'aime\", '', '1 Retweet', \"2 réponses, 6 Retweets, 9 J'aime\", '', \"10 réponses, 27 Retweets, 105 J'aime\", '', \"3 réponses, 5 J'aime\", '', \"2 J'aime\", \"7 Retweets, 27 J'aime\", \"1 réponse, 2 J'aime\", \"1 J'aime\", \"1 Retweet, 1 J'aime\", '', \"2 Retweets, 3 J'aime\", \"1 Retweet, 2 J'aime\", \"205 réponses, 22397 Retweets, 90771 J'aime\", '', None, \"2 Retweets, 5 J'aime\", \"1 réponse, 1 Retweet, 2 J'aime\", '1 Retweet', '', '', '', '', '', '1 Retweet', '1 Retweet', '', '', '', \"1 Retweet, 2 J'aime\", \"1 J'aime\", '', '1 réponse, 1 Retweet', \"2 J'aime\", '', '1 réponse, 1 Retweet', '', '', \"1 J'aime\", '2 Retweets', '', '', '', \"3 J'aime\", '', '', '', \"2 Retweets, 1 J'aime\", '', \"2 J'aime\", '']\n"
     ]
    },
    {
     "data": {
      "text/plain": "''"
     },
     "execution_count": 23,
     "metadata": {},
     "output_type": "execute_result"
    }
   ],
   "source": [
    "print(len(LePseado))\n",
    "print(len(LeTweet))\n",
    "print(len(lesreaction))\n",
    "\n"
   ],
   "metadata": {
    "collapsed": false,
    "pycharm": {
     "name": "#%%\n"
    }
   }
  },
  {
   "cell_type": "code",
   "execution_count": 24,
   "outputs": [
    {
     "name": "stdout",
     "output_type": "stream",
     "text": [
      "['lnx62@lnx621·7 janv.', 'Jérôme Colombain@JeromeColombain·8 janv.', 'Julien Le Clézio@JulienLeClezio·8 janv.', 'EmmanuellePrsc@EmmanuellePrsc·10 janv.', '20 minutes@20minutesOnline·7 janv.', 'The FactWin@Officialfactwin·18 janv.', 'Jérôme Colombain@JeromeColombain·8 janv.', 'Julien Le Clézio@JulienLeClezio·8 janv.', 'Melita Gine@bengangaigine·16 janv.', 'FandeBagnoles.fr@fandebagnoles·11 janv.', 'ÉCHOS DE LA RDC@ViveCongo·7 janv.', 'Le Café du Geek@LeCafeDuGeek·8 janv.', 'Amîn | @aminluxN·7 janv.', 'Génération-NT@GNT_fr·8 janv.', 'Fabien Prévots@fabienprevots·8 janv.', \"Robot De l'Info@RDelinfo·20 avr.\", 'DigiTechnologie@TechnologieDigi·11 janv.', 'Capital@MagazineCapital·6 janv.', 'shima@shimaintheus·21 mars', 'LosPollosHermanos@LosPoll63976350·8 janv.', 'BMW Group France@BMWGroupFrance·10 juin', 'AutoJournalMag@AutoJournalMag·24 mai', 'Netguide@netguide·8 janv.', 'Salvatore Lenzi@sal_lenzi·7 janv.', 'Les Technos (Podcast)@LesTechnos·10 janv.', 'YoouKubeBot@YoouKube·9 janv.', 'Matevoux@matevoux·13 janv.', 'Fast-tuningmag.com@fast_tuningmag·7 janv.', 'Sustainability@NewEngl27684295·12 janv.', 'JustGeek@JustGeek·8 janv.', 'SeeBee - No #FakeMed@c_est_bath·11 janv.', 'Annonces Automobile@annoncesauto·3 avr.', 'Brenp.com@BrenpCom·19 mai', 'Les Numériques@lesnums·7 janv.', 'John BOISGUÉNÉ(JOBO)@boisgueneIT·9 janv.', 'Sako Adams@sakofis·8 janv.', 'automobile.tn@AutomobileTN·10 janv.', 'Sport Auto@SportAutoMag·24 mai', 'Kevin KOFFI@Angloha_·15 janv.', '7sur7@7sur7·8 janv.', 'Belga@dud1970·23 janv.', 'Investor News@newsfilterio·7 janv.', 'John BOISGUÉNÉ(JOBO)@boisgueneIT·9 janv.', 'Les Technos (Podcast)@LesTechnos·10 janv.', 'Mathieu Piton@MathieuPiton·8 janv.', 'Ugo Turner@UgoTurner·10 janv.', 'BorisW@PGeek @boriswapgeek·14 janv.', 'AutoJournalMag@AutoJournalMag·7 juin', \"Bobe'bot@Bobe_bot·8 janv.\", 'CLERGET@ac_anouck·10 janv.', 'Alors, ça roule?@Alorscaroule·6 janv.', 'Malay Mail@malaymail·10 janv.', 'DEEZ@EslarnerZeitung·10 févr.', 'L’Observatoire Cetelem@obs_cetelem·25 janv.', 'Imran Siddique@imran38861618·11 janv.']\n"
     ]
    }
   ],
   "source": [
    "df=pd.DataFrame({'pseado' :LePseado,'tweet':LeTweet ,\"lesreaction\":lesreaction})\n",
    "print(LePseado)"
   ],
   "metadata": {
    "collapsed": false,
    "pycharm": {
     "name": "#%%\n"
    }
   }
  },
  {
   "cell_type": "code",
   "execution_count": null,
   "outputs": [],
   "source": [],
   "metadata": {
    "collapsed": false,
    "pycharm": {
     "name": "#%%\n"
    }
   }
  },
  {
   "cell_type": "code",
   "execution_count": null,
   "outputs": [],
   "source": [
    "driver.quit()"
   ],
   "metadata": {
    "collapsed": false,
    "pycharm": {
     "name": "#%%\n"
    }
   }
  },
  {
   "cell_type": "code",
   "execution_count": 25,
   "outputs": [],
   "source": [
    "df.to_csv(Votre_Recherche+\".csv\")"
   ],
   "metadata": {
    "collapsed": false,
    "pycharm": {
     "name": "#%%\n"
    }
   }
  },
  {
   "cell_type": "code",
   "execution_count": null,
   "outputs": [],
   "source": [],
   "metadata": {
    "collapsed": false,
    "pycharm": {
     "name": "#%%\n"
    }
   }
  }
 ],
 "metadata": {
  "kernelspec": {
   "display_name": "Python 3",
   "language": "python",
   "name": "python3"
  },
  "language_info": {
   "codemirror_mode": {
    "name": "ipython",
    "version": 2
   },
   "file_extension": ".py",
   "mimetype": "text/x-python",
   "name": "python",
   "nbconvert_exporter": "python",
   "pygments_lexer": "ipython2",
   "version": "2.7.6"
  }
 },
 "nbformat": 4,
 "nbformat_minor": 0
}